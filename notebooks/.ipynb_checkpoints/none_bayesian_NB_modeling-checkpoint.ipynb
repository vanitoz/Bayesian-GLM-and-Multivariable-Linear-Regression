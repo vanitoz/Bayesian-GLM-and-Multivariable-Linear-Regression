{
 "cells": [
  {
   "cell_type": "code",
   "execution_count": 3,
   "id": "60dc873b-8fa0-465c-8333-0858889b0cb2",
   "metadata": {},
   "outputs": [],
   "source": [
    "import pandas as pd\n",
    "import numpy as np\n",
    "\n",
    "from patsy import dmatrices\n",
    "\n",
    "import statsmodels.api as sm\n",
    "from statsmodels.formula.api import glm\n",
    "import matplotlib.pyplot as plt\n",
    "import seaborn as sns\n",
    "\n",
    "from sklearn.metrics import mean_squared_error\n",
    "from sklearn.metrics import r2_score\n",
    "from math import sqrt"
   ]
  },
  {
   "cell_type": "code",
   "execution_count": 9,
   "id": "22917793-ded2-4a54-9f78-b4e46c8a388a",
   "metadata": {},
   "outputs": [],
   "source": [
    "data_netw = pd.read_csv(r'x:\\CAO\\Team\\Data Science\\performance_link\\Bayesian_MLR_Starkis\\data\\tv_network.csv').drop(columns= ['TOTAL_CONV'])\n",
    "data_dig = pd.read_csv(r'x:\\CAO\\Team\\Data Science\\performance_link\\Bayesian_MLR_Starkis\\data\\tv_digital.csv')\n",
    "\n",
    "# data_netw = pd.read_csv('../data/tv_network.csv').drop(columns= ['TOTAL_CONV'])\n",
    "# data_dig = pd.read_csv('../data/tv_digital.csv')\n",
    "\n",
    "# combining 2 dfs\n",
    "data = pd.concat([data_netw, data_dig], axis= 1)\n",
    "\n",
    "data = data[data.TOTAL_CONV<20]"
   ]
  },
  {
   "cell_type": "code",
   "execution_count": 26,
   "id": "c43729a8-100a-4bc0-83d8-a7d5b517fed3",
   "metadata": {},
   "outputs": [],
   "source": [
    "mask = np.random.rand(len(data)) < 0.8\n",
    "\n",
    "df_train = data[mask]\n",
    "df_test = data[~mask]"
   ]
  },
  {
   "cell_type": "code",
   "execution_count": 30,
   "id": "55bf4c69-8b89-49dc-a62f-bd74e6ebace6",
   "metadata": {},
   "outputs": [],
   "source": [
    "formula = 'TOTAL_CONV ~ ' + ' + '.join(['%s' % variable for variable in data.columns[:-1]])"
   ]
  },
  {
   "cell_type": "code",
   "execution_count": 32,
   "id": "dd47cbd4-21de-48a5-acef-874f222ae766",
   "metadata": {},
   "outputs": [],
   "source": [
    "y_train, X_train = dmatrices(formula, df_train, return_type = 'dataframe')\n",
    "\n",
    "y_test, X_test = dmatrices(formula, df_test, return_type = 'dataframe')"
   ]
  },
  {
   "cell_type": "code",
   "execution_count": 34,
   "id": "c26c4681-18f3-4bf6-b968-d2246309dcf0",
   "metadata": {},
   "outputs": [],
   "source": [
    "nb_training_results = sm.GLM(y_train, X_train, family = sm.families.NegativeBinomial(alpha = 1)).fit()"
   ]
  },
  {
   "cell_type": "code",
   "execution_count": 35,
   "id": "78473c16-75ba-4ee3-9079-9e2f5435765e",
   "metadata": {},
   "outputs": [
    {
     "data": {
      "text/html": [
       "<table class=\"simpletable\">\n",
       "<caption>Generalized Linear Model Regression Results</caption>\n",
       "<tr>\n",
       "  <th>Dep. Variable:</th>      <td>TOTAL_CONV</td>    <th>  No. Observations:  </th>  <td> 17849</td> \n",
       "</tr>\n",
       "<tr>\n",
       "  <th>Model:</th>                  <td>GLM</td>       <th>  Df Residuals:      </th>  <td> 17819</td> \n",
       "</tr>\n",
       "<tr>\n",
       "  <th>Model Family:</th>    <td>NegativeBinomial</td> <th>  Df Model:          </th>  <td>    29</td> \n",
       "</tr>\n",
       "<tr>\n",
       "  <th>Link Function:</th>          <td>log</td>       <th>  Scale:             </th> <td>  1.0000</td>\n",
       "</tr>\n",
       "<tr>\n",
       "  <th>Method:</th>                <td>IRLS</td>       <th>  Log-Likelihood:    </th> <td> -6624.2</td>\n",
       "</tr>\n",
       "<tr>\n",
       "  <th>Date:</th>            <td>Fri, 01 Oct 2021</td> <th>  Deviance:          </th> <td>  7626.8</td>\n",
       "</tr>\n",
       "<tr>\n",
       "  <th>Time:</th>                <td>13:50:22</td>     <th>  Pearson chi2:      </th> <td>5.03e+06</td>\n",
       "</tr>\n",
       "<tr>\n",
       "  <th>No. Iterations:</th>         <td>11</td>        <th>                     </th>     <td> </td>   \n",
       "</tr>\n",
       "<tr>\n",
       "  <th>Covariance Type:</th>     <td>nonrobust</td>    <th>                     </th>     <td> </td>   \n",
       "</tr>\n",
       "</table>\n",
       "<table class=\"simpletable\">\n",
       "<tr>\n",
       "              <td></td>                 <th>coef</th>     <th>std err</th>      <th>z</th>      <th>P>|z|</th>  <th>[0.025</th>    <th>0.975]</th>  \n",
       "</tr>\n",
       "<tr>\n",
       "  <th>Intercept</th>                 <td>   -1.0313</td> <td>    0.031</td> <td>  -32.851</td> <td> 0.000</td> <td>   -1.093</td> <td>   -0.970</td>\n",
       "</tr>\n",
       "<tr>\n",
       "  <th>TV_ANE</th>                    <td>   -0.3216</td> <td>    0.051</td> <td>   -6.275</td> <td> 0.000</td> <td>   -0.422</td> <td>   -0.221</td>\n",
       "</tr>\n",
       "<tr>\n",
       "  <th>TV_AMC</th>                    <td>   -0.5088</td> <td>    0.074</td> <td>   -6.886</td> <td> 0.000</td> <td>   -0.654</td> <td>   -0.364</td>\n",
       "</tr>\n",
       "<tr>\n",
       "  <th>TV_ANIMALPLANET</th>           <td>   -0.2276</td> <td>    0.042</td> <td>   -5.395</td> <td> 0.000</td> <td>   -0.310</td> <td>   -0.145</td>\n",
       "</tr>\n",
       "<tr>\n",
       "  <th>TV_BBCAMERICA</th>             <td>   -0.3638</td> <td>    0.165</td> <td>   -2.207</td> <td> 0.027</td> <td>   -0.687</td> <td>   -0.041</td>\n",
       "</tr>\n",
       "<tr>\n",
       "  <th>TV_BET</th>                    <td>   -0.1184</td> <td>    0.019</td> <td>   -6.372</td> <td> 0.000</td> <td>   -0.155</td> <td>   -0.082</td>\n",
       "</tr>\n",
       "<tr>\n",
       "  <th>TV_BETHER</th>                 <td>   -3.2563</td> <td>    2.201</td> <td>   -1.479</td> <td> 0.139</td> <td>   -7.571</td> <td>    1.058</td>\n",
       "</tr>\n",
       "<tr>\n",
       "  <th>TV_BRAVO</th>                  <td>   -0.1927</td> <td>    0.030</td> <td>   -6.390</td> <td> 0.000</td> <td>   -0.252</td> <td>   -0.134</td>\n",
       "</tr>\n",
       "<tr>\n",
       "  <th>TV_COMEDYCENTRAL</th>          <td>   -0.3169</td> <td>    0.062</td> <td>   -5.116</td> <td> 0.000</td> <td>   -0.438</td> <td>   -0.196</td>\n",
       "</tr>\n",
       "<tr>\n",
       "  <th>TV_COUNTRYMUSICTELEVISION</th> <td>   -0.2477</td> <td>    0.035</td> <td>   -7.093</td> <td> 0.000</td> <td>   -0.316</td> <td>   -0.179</td>\n",
       "</tr>\n",
       "<tr>\n",
       "  <th>TV_FOODNETWORK</th>            <td>   -0.4406</td> <td>    0.049</td> <td>   -9.011</td> <td> 0.000</td> <td>   -0.536</td> <td>   -0.345</td>\n",
       "</tr>\n",
       "<tr>\n",
       "  <th>TV_GAMESHOWNETWORK</th>        <td>   -0.1669</td> <td>    0.027</td> <td>   -6.295</td> <td> 0.000</td> <td>   -0.219</td> <td>   -0.115</td>\n",
       "</tr>\n",
       "<tr>\n",
       "  <th>TV_IFC</th>                    <td>   -0.2277</td> <td>    0.186</td> <td>   -1.223</td> <td> 0.221</td> <td>   -0.593</td> <td>    0.137</td>\n",
       "</tr>\n",
       "<tr>\n",
       "  <th>TV_INVESTIGATIONDISCOVERY</th> <td>   -0.2191</td> <td>    0.031</td> <td>   -7.052</td> <td> 0.000</td> <td>   -0.280</td> <td>   -0.158</td>\n",
       "</tr>\n",
       "<tr>\n",
       "  <th>TV_LIFETIME</th>               <td>   -0.2000</td> <td>    0.034</td> <td>   -5.871</td> <td> 0.000</td> <td>   -0.267</td> <td>   -0.133</td>\n",
       "</tr>\n",
       "<tr>\n",
       "  <th>TV_LIFETIMEMOVIES</th>         <td>   -0.0606</td> <td>    0.016</td> <td>   -3.893</td> <td> 0.000</td> <td>   -0.091</td> <td>   -0.030</td>\n",
       "</tr>\n",
       "<tr>\n",
       "  <th>TV_OPRAHWINFREYNETWORK</th>    <td>   -0.2483</td> <td>    0.057</td> <td>   -4.335</td> <td> 0.000</td> <td>   -0.361</td> <td>   -0.136</td>\n",
       "</tr>\n",
       "<tr>\n",
       "  <th>TV_OTHER</th>                  <td>   -0.3326</td> <td>    0.043</td> <td>   -7.765</td> <td> 0.000</td> <td>   -0.417</td> <td>   -0.249</td>\n",
       "</tr>\n",
       "<tr>\n",
       "  <th>TV_OVATIONTV</th>              <td>   -0.3546</td> <td>    0.088</td> <td>   -4.050</td> <td> 0.000</td> <td>   -0.526</td> <td>   -0.183</td>\n",
       "</tr>\n",
       "<tr>\n",
       "  <th>TV_PARAMOUNTNETWORK</th>       <td>   -0.2784</td> <td>    0.025</td> <td>  -11.157</td> <td> 0.000</td> <td>   -0.327</td> <td>   -0.230</td>\n",
       "</tr>\n",
       "<tr>\n",
       "  <th>TV_POP</th>                    <td>   -0.0750</td> <td>    0.024</td> <td>   -3.118</td> <td> 0.002</td> <td>   -0.122</td> <td>   -0.028</td>\n",
       "</tr>\n",
       "<tr>\n",
       "  <th>TV_SMITHSONIANNETWORK</th>     <td>   -0.5505</td> <td>    0.150</td> <td>   -3.676</td> <td> 0.000</td> <td>   -0.844</td> <td>   -0.257</td>\n",
       "</tr>\n",
       "<tr>\n",
       "  <th>TV_SYFY</th>                   <td>   -0.5197</td> <td>    0.326</td> <td>   -1.593</td> <td> 0.111</td> <td>   -1.159</td> <td>    0.120</td>\n",
       "</tr>\n",
       "<tr>\n",
       "  <th>TV_TRUTV</th>                  <td>   -0.1123</td> <td>    0.048</td> <td>   -2.358</td> <td> 0.018</td> <td>   -0.206</td> <td>   -0.019</td>\n",
       "</tr>\n",
       "<tr>\n",
       "  <th>TV_TVONE</th>                  <td>   -0.2979</td> <td>    0.078</td> <td>   -3.801</td> <td> 0.000</td> <td>   -0.452</td> <td>   -0.144</td>\n",
       "</tr>\n",
       "<tr>\n",
       "  <th>TV_USANETWORK</th>             <td>   -0.2208</td> <td>    0.022</td> <td>  -10.076</td> <td> 0.000</td> <td>   -0.264</td> <td>   -0.178</td>\n",
       "</tr>\n",
       "<tr>\n",
       "  <th>TV_VH1</th>                    <td>   -0.1822</td> <td>    0.042</td> <td>   -4.303</td> <td> 0.000</td> <td>   -0.265</td> <td>   -0.099</td>\n",
       "</tr>\n",
       "<tr>\n",
       "  <th>TV_WETV</th>                   <td>   -0.2354</td> <td>    0.052</td> <td>   -4.569</td> <td> 0.000</td> <td>   -0.336</td> <td>   -0.134</td>\n",
       "</tr>\n",
       "<tr>\n",
       "  <th>DIGITAL_HX</th>                <td>    0.0006</td> <td>    0.009</td> <td>    0.066</td> <td> 0.947</td> <td>   -0.017</td> <td>    0.018</td>\n",
       "</tr>\n",
       "<tr>\n",
       "  <th>DIGITAL_TREMOR</th>            <td>   -0.0385</td> <td>    0.008</td> <td>   -4.749</td> <td> 0.000</td> <td>   -0.054</td> <td>   -0.023</td>\n",
       "</tr>\n",
       "</table>"
      ],
      "text/plain": [
       "<class 'statsmodels.iolib.summary.Summary'>\n",
       "\"\"\"\n",
       "                 Generalized Linear Model Regression Results                  \n",
       "==============================================================================\n",
       "Dep. Variable:             TOTAL_CONV   No. Observations:                17849\n",
       "Model:                            GLM   Df Residuals:                    17819\n",
       "Model Family:        NegativeBinomial   Df Model:                           29\n",
       "Link Function:                    log   Scale:                          1.0000\n",
       "Method:                          IRLS   Log-Likelihood:                -6624.2\n",
       "Date:                Fri, 01 Oct 2021   Deviance:                       7626.8\n",
       "Time:                        13:50:22   Pearson chi2:                 5.03e+06\n",
       "No. Iterations:                    11                                         \n",
       "Covariance Type:            nonrobust                                         \n",
       "=============================================================================================\n",
       "                                coef    std err          z      P>|z|      [0.025      0.975]\n",
       "---------------------------------------------------------------------------------------------\n",
       "Intercept                    -1.0313      0.031    -32.851      0.000      -1.093      -0.970\n",
       "TV_ANE                       -0.3216      0.051     -6.275      0.000      -0.422      -0.221\n",
       "TV_AMC                       -0.5088      0.074     -6.886      0.000      -0.654      -0.364\n",
       "TV_ANIMALPLANET              -0.2276      0.042     -5.395      0.000      -0.310      -0.145\n",
       "TV_BBCAMERICA                -0.3638      0.165     -2.207      0.027      -0.687      -0.041\n",
       "TV_BET                       -0.1184      0.019     -6.372      0.000      -0.155      -0.082\n",
       "TV_BETHER                    -3.2563      2.201     -1.479      0.139      -7.571       1.058\n",
       "TV_BRAVO                     -0.1927      0.030     -6.390      0.000      -0.252      -0.134\n",
       "TV_COMEDYCENTRAL             -0.3169      0.062     -5.116      0.000      -0.438      -0.196\n",
       "TV_COUNTRYMUSICTELEVISION    -0.2477      0.035     -7.093      0.000      -0.316      -0.179\n",
       "TV_FOODNETWORK               -0.4406      0.049     -9.011      0.000      -0.536      -0.345\n",
       "TV_GAMESHOWNETWORK           -0.1669      0.027     -6.295      0.000      -0.219      -0.115\n",
       "TV_IFC                       -0.2277      0.186     -1.223      0.221      -0.593       0.137\n",
       "TV_INVESTIGATIONDISCOVERY    -0.2191      0.031     -7.052      0.000      -0.280      -0.158\n",
       "TV_LIFETIME                  -0.2000      0.034     -5.871      0.000      -0.267      -0.133\n",
       "TV_LIFETIMEMOVIES            -0.0606      0.016     -3.893      0.000      -0.091      -0.030\n",
       "TV_OPRAHWINFREYNETWORK       -0.2483      0.057     -4.335      0.000      -0.361      -0.136\n",
       "TV_OTHER                     -0.3326      0.043     -7.765      0.000      -0.417      -0.249\n",
       "TV_OVATIONTV                 -0.3546      0.088     -4.050      0.000      -0.526      -0.183\n",
       "TV_PARAMOUNTNETWORK          -0.2784      0.025    -11.157      0.000      -0.327      -0.230\n",
       "TV_POP                       -0.0750      0.024     -3.118      0.002      -0.122      -0.028\n",
       "TV_SMITHSONIANNETWORK        -0.5505      0.150     -3.676      0.000      -0.844      -0.257\n",
       "TV_SYFY                      -0.5197      0.326     -1.593      0.111      -1.159       0.120\n",
       "TV_TRUTV                     -0.1123      0.048     -2.358      0.018      -0.206      -0.019\n",
       "TV_TVONE                     -0.2979      0.078     -3.801      0.000      -0.452      -0.144\n",
       "TV_USANETWORK                -0.2208      0.022    -10.076      0.000      -0.264      -0.178\n",
       "TV_VH1                       -0.1822      0.042     -4.303      0.000      -0.265      -0.099\n",
       "TV_WETV                      -0.2354      0.052     -4.569      0.000      -0.336      -0.134\n",
       "DIGITAL_HX                    0.0006      0.009      0.066      0.947      -0.017       0.018\n",
       "DIGITAL_TREMOR               -0.0385      0.008     -4.749      0.000      -0.054      -0.023\n",
       "=============================================================================================\n",
       "\"\"\""
      ]
     },
     "execution_count": 35,
     "metadata": {},
     "output_type": "execute_result"
    }
   ],
   "source": [
    "nb_training_results.summary()"
   ]
  },
  {
   "cell_type": "code",
   "execution_count": 36,
   "id": "c0c3e5d5-930e-45ce-b330-cb1c194c708f",
   "metadata": {},
   "outputs": [
    {
     "name": "stdout",
     "output_type": "stream",
     "text": [
      "           mean   mean_se  mean_ci_lower  mean_ci_upper\n",
      "1      0.022054  0.006741       0.012114       0.040147\n",
      "2      0.359287  0.041687       0.286207       0.451028\n",
      "3      0.099820  0.008300       0.084808       0.117488\n",
      "4      0.128866  0.018908       0.096660       0.171803\n",
      "5      0.011755  0.003260       0.006825       0.020245\n",
      "...         ...       ...            ...            ...\n",
      "22290  0.169576  0.017689       0.138220       0.208045\n",
      "22291  0.187397  0.019391       0.152996       0.229531\n",
      "22293  0.010369  0.005815       0.003454       0.031122\n",
      "22294  0.003031  0.001086       0.001502       0.006118\n",
      "22295  0.076676  0.026797       0.038653       0.152103\n",
      "\n",
      "[17849 rows x 4 columns]\n"
     ]
    }
   ],
   "source": [
    "nb_prediction_train = nb_training_results.get_prediction(X_train)\n",
    "\n",
    "nb_summary_frame_train = nb_prediction_train.summary_frame()\n",
    "\n",
    "print(nb_summary_frame_train)"
   ]
  },
  {
   "cell_type": "code",
   "execution_count": 37,
   "id": "e4ed15c1-e71d-4fba-bc4f-867ccb560c92",
   "metadata": {},
   "outputs": [],
   "source": [
    "predicted_counts_train = nb_summary_frame_train['mean']"
   ]
  },
  {
   "cell_type": "code",
   "execution_count": 39,
   "id": "3943d031-bdcf-48ba-8811-aeb2911f9a5e",
   "metadata": {},
   "outputs": [
    {
     "name": "stdout",
     "output_type": "stream",
     "text": [
      "R-square of train set:  6.04 %\n"
     ]
    }
   ],
   "source": [
    "# Accuracy of the train set\n",
    "\n",
    "print(\"R-square of train set: \", round(r2_score(y_train, predicted_counts_train)*100, 2), \"%\")"
   ]
  },
  {
   "cell_type": "code",
   "execution_count": 40,
   "id": "8f982d67-3e80-4b04-b214-07f0f4df08ad",
   "metadata": {},
   "outputs": [
    {
     "name": "stdout",
     "output_type": "stream",
     "text": [
      "           mean   mean_se  mean_ci_lower  mean_ci_upper\n",
      "0      0.356829  0.011464       0.335052       0.380022\n",
      "6      0.002768  0.001463       0.000982       0.007797\n",
      "8      0.183838  0.012131       0.161534       0.209221\n",
      "12     0.067999  0.009964       0.051024       0.090620\n",
      "17     0.026913  0.009638       0.013339       0.054298\n",
      "...         ...       ...            ...            ...\n",
      "22281  0.182199  0.019704       0.147399       0.225216\n",
      "22286  0.110841  0.020302       0.077410       0.158712\n",
      "22287  0.356536  0.011193       0.335259       0.379163\n",
      "22288  0.205005  0.010109       0.186119       0.225807\n",
      "22292  0.126232  0.018920       0.094099       0.169337\n",
      "\n",
      "[4423 rows x 4 columns]\n"
     ]
    }
   ],
   "source": [
    "\n",
    "nb_prediction_test = nb_training_results.get_prediction(X_test)\n",
    "\n",
    "nb_summary_frame_test = nb_prediction_test.summary_frame()\n",
    "\n",
    "print(nb_summary_frame_test)"
   ]
  },
  {
   "cell_type": "code",
   "execution_count": 41,
   "id": "f8d33904-6141-462f-af16-d12e666b8d86",
   "metadata": {},
   "outputs": [],
   "source": [
    "predicted_counts = nb_summary_frame_test['mean']"
   ]
  },
  {
   "cell_type": "code",
   "execution_count": 42,
   "id": "2663ab50-9168-45aa-b7d7-8bba212ab690",
   "metadata": {},
   "outputs": [
    {
     "name": "stdout",
     "output_type": "stream",
     "text": [
      "R-square of train set:  4.88 %\n"
     ]
    }
   ],
   "source": [
    "#Accuracy of the test set\n",
    "\n",
    "print(\"R-square of train set: \", round(r2_score(y_test, predicted_counts)*100, 2), \"%\")"
   ]
  },
  {
   "cell_type": "code",
   "execution_count": 43,
   "id": "84f58452-5b90-4673-b5a8-20a7b801d603",
   "metadata": {},
   "outputs": [
    {
     "data": {
      "image/png": "[encoded data removed]",
      "text/plain": [
       "<Figure size 864x576 with 1 Axes>"
      ]
     },
     "metadata": {
      "needs_background": "light"
     },
     "output_type": "display_data"
    }
   ],
   "source": [
    "fig = plt.figure(figsize = (12, 8))\n",
    "\n",
    "fig.suptitle('Predcited versus actual patent counts')\n",
    "\n",
    "predicted, = plt.plot(X_test.index, predicted_counts , 'go-', label = 'Predicted counts')\n",
    "actual, = plt.plot(X_test.index, y_test , 'ro-', label = 'Actual counts')\n",
    "\n",
    "\n",
    "plt.legend(handles = [predicted, actual])\n",
    "plt.show()"
   ]
  },
  {
   "cell_type": "code",
   "execution_count": null,
   "id": "f7bc0c13-dc35-490d-8246-516f294c08f0",
   "metadata": {},
   "outputs": [],
   "source": []
  }
 ],
 "metadata": {
  "kernelspec": {
   "display_name": "Python 3 (ipykernel)",
   "language": "python",
   "name": "python3"
  },
  "language_info": {
   "codemirror_mode": {
    "name": "ipython",
    "version": 3
   },
   "file_extension": ".py",
   "mimetype": "text/x-python",
   "name": "python",
   "nbconvert_exporter": "python",
   "pygments_lexer": "ipython3",
   "version": "3.8.12"
  }
 },
 "nbformat": 4,
 "nbformat_minor": 5
}
