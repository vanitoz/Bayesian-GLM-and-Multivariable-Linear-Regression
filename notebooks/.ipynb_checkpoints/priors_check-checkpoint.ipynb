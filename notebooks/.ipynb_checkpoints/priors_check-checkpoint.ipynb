{
 "cells": [
  {
   "cell_type": "code",
   "execution_count": 63,
   "id": "19860917-d011-4461-8d89-11d1b2dee5d5",
   "metadata": {},
   "outputs": [
    {
     "name": "stdout",
     "output_type": "stream",
     "text": [
      "The autoreload extension is already loaded. To reload it, use:\n",
      "  %reload_ext autoreload\n",
      "Running on PyMC3 v3.11.4\n"
     ]
    }
   ],
   "source": [
    "import pandas as pd\n",
    "import numpy as np\n",
    " \n",
    "import matplotlib.pyplot as plt\n",
    "%matplotlib inline\n",
    "import seaborn as sns\n",
    "#sns.set(style=\"darkgrid\")\n",
    "#import bayespy \n",
    "\n",
    "import pymc3 as pm\n",
    "import arviz as az\n",
    "import theano.tensor as tt\n",
    "from sklearn.preprocessing import StandardScaler, MinMaxScaler\n",
    "from scipy.stats import ks_2samp\n",
    "\n",
    "# pd.set_option('display.max_columns', None)\n",
    "\n",
    "from utils import *\n",
    "\n",
    "%load_ext autoreload\n",
    "%autoreload 2\n",
    "\n",
    "import warnings\n",
    "warnings.filterwarnings(\"ignore\")\n",
    "\n",
    "#%load_ext watermark\n",
    "#%watermark -dtmvgp numpy,scipy,matplotlib,pandas,seaborn,pymc3,theano,arviz\n",
    "print(f\"Running on PyMC3 v{pm.__version__}\")"
   ]
  },
  {
   "cell_type": "code",
   "execution_count": 64,
   "id": "e5fcd9ed-64fa-446e-a689-301f2141abf8",
   "metadata": {},
   "outputs": [],
   "source": [
    "data_netw = pd.read_csv(r'x:\\CAO\\Team\\Data Science\\performance_link\\Bayesian_MLR_Starkis\\data\\tv_network.csv').drop(columns= ['TOTAL_CONV'])\n",
    "data_dig = pd.read_csv(r'x:\\CAO\\Team\\Data Science\\performance_link\\Bayesian_MLR_Starkis\\data\\tv_digital.csv')\n",
    "\n",
    "# data_netw = pd.read_csv('../data/tv_network.csv').drop(columns= ['TOTAL_CONV'])\n",
    "# data_dig = pd.read_csv('../data/tv_digital.csv')\n",
    "\n",
    "# combining 2 dfs\n",
    "data = pd.concat([data_netw, data_dig], axis= 1)\n",
    "\n",
    "# Filter the rows where sum of the values = 0\n",
    "# data = data[data.iloc[:,:-1].sum(axis=1)!=0]"
   ]
  },
  {
   "cell_type": "code",
   "execution_count": 98,
   "id": "cd5eac1d-57a0-4416-8d5a-936ce5da530c",
   "metadata": {},
   "outputs": [
    {
     "data": {
      "text/html": [
       "<div>\n",
       "<style scoped>\n",
       "    .dataframe tbody tr th:only-of-type {\n",
       "        vertical-align: middle;\n",
       "    }\n",
       "\n",
       "    .dataframe tbody tr th {\n",
       "        vertical-align: top;\n",
       "    }\n",
       "\n",
       "    .dataframe thead th {\n",
       "        text-align: right;\n",
       "    }\n",
       "</style>\n",
       "<table border=\"1\" class=\"dataframe\">\n",
       "  <thead>\n",
       "    <tr style=\"text-align: right;\">\n",
       "      <th></th>\n",
       "      <th>TV_ANE</th>\n",
       "      <th>TV_AMC</th>\n",
       "      <th>TV_ANIMALPLANET</th>\n",
       "      <th>TV_BBCAMERICA</th>\n",
       "      <th>TV_BET</th>\n",
       "      <th>TV_BETHER</th>\n",
       "      <th>TV_BRAVO</th>\n",
       "      <th>TV_COMEDYCENTRAL</th>\n",
       "      <th>TV_COUNTRYMUSICTELEVISION</th>\n",
       "      <th>TV_FOODNETWORK</th>\n",
       "      <th>...</th>\n",
       "      <th>TV_SMITHSONIANNETWORK</th>\n",
       "      <th>TV_SYFY</th>\n",
       "      <th>TV_TRUTV</th>\n",
       "      <th>TV_TVONE</th>\n",
       "      <th>TV_USANETWORK</th>\n",
       "      <th>TV_VH1</th>\n",
       "      <th>TV_WETV</th>\n",
       "      <th>DIGITAL_HX</th>\n",
       "      <th>DIGITAL_TREMOR</th>\n",
       "      <th>TOTAL_CONV</th>\n",
       "    </tr>\n",
       "  </thead>\n",
       "  <tbody>\n",
       "    <tr>\n",
       "      <th>1</th>\n",
       "      <td>0.0</td>\n",
       "      <td>0.00</td>\n",
       "      <td>2.0</td>\n",
       "      <td>0.0</td>\n",
       "      <td>0.0</td>\n",
       "      <td>0.0</td>\n",
       "      <td>0.0</td>\n",
       "      <td>0.00</td>\n",
       "      <td>0.0</td>\n",
       "      <td>0.0</td>\n",
       "      <td>...</td>\n",
       "      <td>0.0</td>\n",
       "      <td>0.0</td>\n",
       "      <td>0.0</td>\n",
       "      <td>0.0</td>\n",
       "      <td>0.0</td>\n",
       "      <td>0.0</td>\n",
       "      <td>0.0</td>\n",
       "      <td>1.0</td>\n",
       "      <td>0.0</td>\n",
       "      <td>0</td>\n",
       "    </tr>\n",
       "    <tr>\n",
       "      <th>2</th>\n",
       "      <td>0.0</td>\n",
       "      <td>0.00</td>\n",
       "      <td>0.0</td>\n",
       "      <td>0.0</td>\n",
       "      <td>0.0</td>\n",
       "      <td>0.0</td>\n",
       "      <td>0.0</td>\n",
       "      <td>0.00</td>\n",
       "      <td>0.0</td>\n",
       "      <td>0.0</td>\n",
       "      <td>...</td>\n",
       "      <td>0.0</td>\n",
       "      <td>0.0</td>\n",
       "      <td>0.0</td>\n",
       "      <td>0.0</td>\n",
       "      <td>0.0</td>\n",
       "      <td>0.0</td>\n",
       "      <td>0.0</td>\n",
       "      <td>13.0</td>\n",
       "      <td>0.0</td>\n",
       "      <td>0</td>\n",
       "    </tr>\n",
       "    <tr>\n",
       "      <th>3</th>\n",
       "      <td>0.0</td>\n",
       "      <td>0.00</td>\n",
       "      <td>0.0</td>\n",
       "      <td>0.0</td>\n",
       "      <td>0.0</td>\n",
       "      <td>0.0</td>\n",
       "      <td>0.0</td>\n",
       "      <td>0.00</td>\n",
       "      <td>2.0</td>\n",
       "      <td>0.0</td>\n",
       "      <td>...</td>\n",
       "      <td>0.0</td>\n",
       "      <td>0.0</td>\n",
       "      <td>0.0</td>\n",
       "      <td>0.0</td>\n",
       "      <td>1.0</td>\n",
       "      <td>0.0</td>\n",
       "      <td>0.0</td>\n",
       "      <td>0.0</td>\n",
       "      <td>0.0</td>\n",
       "      <td>0</td>\n",
       "    </tr>\n",
       "    <tr>\n",
       "      <th>4</th>\n",
       "      <td>0.0</td>\n",
       "      <td>2.00</td>\n",
       "      <td>0.0</td>\n",
       "      <td>0.0</td>\n",
       "      <td>0.0</td>\n",
       "      <td>0.0</td>\n",
       "      <td>0.0</td>\n",
       "      <td>0.00</td>\n",
       "      <td>0.0</td>\n",
       "      <td>0.0</td>\n",
       "      <td>...</td>\n",
       "      <td>0.0</td>\n",
       "      <td>0.0</td>\n",
       "      <td>0.0</td>\n",
       "      <td>0.0</td>\n",
       "      <td>0.0</td>\n",
       "      <td>0.0</td>\n",
       "      <td>0.0</td>\n",
       "      <td>0.0</td>\n",
       "      <td>0.0</td>\n",
       "      <td>0</td>\n",
       "    </tr>\n",
       "    <tr>\n",
       "      <th>5</th>\n",
       "      <td>0.0</td>\n",
       "      <td>0.12</td>\n",
       "      <td>5.3</td>\n",
       "      <td>0.0</td>\n",
       "      <td>0.0</td>\n",
       "      <td>0.0</td>\n",
       "      <td>1.4</td>\n",
       "      <td>0.98</td>\n",
       "      <td>0.0</td>\n",
       "      <td>0.0</td>\n",
       "      <td>...</td>\n",
       "      <td>0.0</td>\n",
       "      <td>0.0</td>\n",
       "      <td>0.0</td>\n",
       "      <td>0.0</td>\n",
       "      <td>0.0</td>\n",
       "      <td>0.0</td>\n",
       "      <td>0.0</td>\n",
       "      <td>0.0</td>\n",
       "      <td>0.0</td>\n",
       "      <td>1</td>\n",
       "    </tr>\n",
       "  </tbody>\n",
       "</table>\n",
       "<p>5 rows × 30 columns</p>\n",
       "</div>"
      ],
      "text/plain": [
       "   TV_ANE  TV_AMC  TV_ANIMALPLANET  TV_BBCAMERICA  TV_BET  TV_BETHER  \\\n",
       "1     0.0    0.00              2.0            0.0     0.0        0.0   \n",
       "2     0.0    0.00              0.0            0.0     0.0        0.0   \n",
       "3     0.0    0.00              0.0            0.0     0.0        0.0   \n",
       "4     0.0    2.00              0.0            0.0     0.0        0.0   \n",
       "5     0.0    0.12              5.3            0.0     0.0        0.0   \n",
       "\n",
       "   TV_BRAVO  TV_COMEDYCENTRAL  TV_COUNTRYMUSICTELEVISION  TV_FOODNETWORK  ...  \\\n",
       "1       0.0              0.00                        0.0             0.0  ...   \n",
       "2       0.0              0.00                        0.0             0.0  ...   \n",
       "3       0.0              0.00                        2.0             0.0  ...   \n",
       "4       0.0              0.00                        0.0             0.0  ...   \n",
       "5       1.4              0.98                        0.0             0.0  ...   \n",
       "\n",
       "   TV_SMITHSONIANNETWORK  TV_SYFY  TV_TRUTV  TV_TVONE  TV_USANETWORK  TV_VH1  \\\n",
       "1                    0.0      0.0       0.0       0.0            0.0     0.0   \n",
       "2                    0.0      0.0       0.0       0.0            0.0     0.0   \n",
       "3                    0.0      0.0       0.0       0.0            1.0     0.0   \n",
       "4                    0.0      0.0       0.0       0.0            0.0     0.0   \n",
       "5                    0.0      0.0       0.0       0.0            0.0     0.0   \n",
       "\n",
       "   TV_WETV  DIGITAL_HX  DIGITAL_TREMOR  TOTAL_CONV  \n",
       "1      0.0         1.0             0.0           0  \n",
       "2      0.0        13.0             0.0           0  \n",
       "3      0.0         0.0             0.0           0  \n",
       "4      0.0         0.0             0.0           0  \n",
       "5      0.0         0.0             0.0           1  \n",
       "\n",
       "[5 rows x 30 columns]"
      ]
     },
     "execution_count": 98,
     "metadata": {},
     "output_type": "execute_result"
    }
   ],
   "source": [
    "data.head()"
   ]
  },
  {
   "cell_type": "code",
   "execution_count": 66,
   "id": "b521b873-8580-41c3-aeb4-a445cd87ce8b",
   "metadata": {},
   "outputs": [
    {
     "data": {
      "image/png": "[encoded data removed]",
      "text/plain": [
       "<Figure size 864x432 with 2 Axes>"
      ]
     },
     "metadata": {
      "needs_background": "light"
     },
     "output_type": "display_data"
    }
   ],
   "source": [
    "target_distribution(data.TOTAL_CONV)"
   ]
  },
  {
   "cell_type": "code",
   "execution_count": 67,
   "id": "b6eab208-947e-4bec-8105-5356fb860de3",
   "metadata": {},
   "outputs": [],
   "source": [
    "# data = data[data.TOTAL_CONV != 0]\n",
    "data = data[(data.TOTAL_CONV<10)] # & (data.TOTAL_CONV!=0)"
   ]
  },
  {
   "cell_type": "code",
   "execution_count": 75,
   "id": "c11f95de-000b-4fdd-8b96-03f3231a975f",
   "metadata": {},
   "outputs": [
    {
     "data": {
      "image/png": "[encoded data removed]",
      "text/plain": [
       "<Figure size 432x216 with 1 Axes>"
      ]
     },
     "metadata": {
      "needs_background": "light"
     },
     "output_type": "display_data"
    }
   ],
   "source": [
    "# target variable distribution\n",
    "fig = plt.figure(figsize=(6,3))\n",
    "plt.hist(data.TOTAL_CONV,\n",
    "         color = 'cornflowerblue',\n",
    "         width=0.9, bins =100)\n",
    "plt.title(label= 'Target variable distribution')\n",
    "plt.show()"
   ]
  },
  {
   "cell_type": "code",
   "execution_count": 76,
   "id": "0f69d26e-839e-417e-812a-32a7f5b6de85",
   "metadata": {},
   "outputs": [],
   "source": [
    "x = data[[col for col in data.columns if col != 'TOTAL_CONV']].values\n",
    "y = data.TOTAL_CONV.values"
   ]
  },
  {
   "cell_type": "code",
   "execution_count": 77,
   "id": "6f330ab8-3d10-49d3-b018-055a3dfd2a01",
   "metadata": {},
   "outputs": [
    {
     "name": "stdout",
     "output_type": "stream",
     "text": [
      "Mean of target distribution: 0.13\n",
      "Variance of target distribution: 0.45\n"
     ]
    }
   ],
   "source": [
    "print(f\"Mean of target distribution: {round(y.mean(), 2)}\")\n",
    "print(f\"Variance of target distribution: {round(y.std(), 2)}\")"
   ]
  },
  {
   "cell_type": "markdown",
   "id": "13923c77-0812-489e-b543-df98e10c517a",
   "metadata": {
    "tags": []
   },
   "source": [
    "### NegativeBinomial as Likelihood\n",
    "    Negative binomial regression is used to model count data for which the variance is higher than the mean (calls overdispersion). The negative binomial distribution can be thought of as a Poisson distribution whose rate parameter is gamma distributed, so that rate parameter can be adjusted to account for the increased variance."
   ]
  },
  {
   "cell_type": "code",
   "execution_count": 127,
   "id": "a115a41d-b9de-4e05-ac27-54cf64a162ae",
   "metadata": {},
   "outputs": [],
   "source": [
    "with pm.Model() as model_negative_binomial:\n",
    "\n",
    "        # Intercept\n",
    "        alpha = pm.Normal('alpha', mu=y.mean(), sd=5)\n",
    "        # Slope\n",
    "        beta = pm.HalfNormal('beta', sd = 5, shape = len(data.columns[:-1]))\n",
    "        # Error term\n",
    "        eps = pm.Gamma('eps', alpha = 1, beta = 0.5)\n",
    "        # Expected value of outcome (ML Regression with vectors)\n",
    "        mu = pm.math.invlogit(alpha + pm.math.dot(x, beta))\n",
    "        # Likelihood\n",
    "        conv = pm.NegativeBinomial('conv', \n",
    "                                   mu = mu, \n",
    "                                   alpha = eps,  \n",
    "                                   observed = y)\n",
    "        pm.Potential('constrain', tt.switch(conv > y.max(), -np.inf, 0.))\n",
    "        # trace_negative_binomial = pm.sample(chains = 4, target_accept = 0.95)"
   ]
  },
  {
   "cell_type": "code",
   "execution_count": 27,
   "id": "029f4aec-554c-4e92-9afe-ed7eacfae724",
   "metadata": {},
   "outputs": [],
   "source": [
    "#pm.model_to_graphviz(model_negative_binomial)"
   ]
  },
  {
   "cell_type": "code",
   "execution_count": 128,
   "id": "b3f5a0a5-f6f6-489c-88c1-b66a39e0bca7",
   "metadata": {},
   "outputs": [],
   "source": [
    "with model_negative_binomial:\n",
    "    prior_pred = pm.sample_prior_predictive()"
   ]
  },
  {
   "cell_type": "code",
   "execution_count": 130,
   "id": "05d7424f-8693-4885-8c2a-5c139f7ad0cb",
   "metadata": {},
   "outputs": [
    {
     "data": {
      "image/png": "[encoded data removed]",
      "text/plain": [
       "<Figure size 432x288 with 1 Axes>"
      ]
     },
     "metadata": {
      "needs_background": "light"
     },
     "output_type": "display_data"
    }
   ],
   "source": [
    "plt.hist(prior_pred['conv'][40],\n",
    "         color = 'cornflowerblue', \n",
    "         width=0.8, bins =100)\n",
    "\n",
    "plt.title(label= 'Target variable distribution')\n",
    "plt.show()"
   ]
  },
  {
   "cell_type": "code",
   "execution_count": 138,
   "id": "581501b7-807d-4f9f-9b88-19365e09cd3b",
   "metadata": {},
   "outputs": [],
   "source": [
    "with pm.Model() as model_zip:\n",
    "\n",
    "        # Intercept\n",
    "        alpha = pm.Normal('alpha', mu=y.mean(), sd=3)\n",
    "\n",
    "        # Slope\n",
    "        beta = pm.HalfNormal('beta', sd= 5, shape = len(data.columns[:-1]))\n",
    "\n",
    "        psi = pm.Beta('psi', 1, 1)\n",
    "        \n",
    "        # Expected value of outcome (ML Regression with vectors)\n",
    "        mu = pm.math.invlogit(alpha + pm.math.dot(x, beta))\n",
    "\n",
    "        # Likelihood\n",
    "        conv = pm.ZeroInflatedPoisson('conv', \n",
    "                                      theta= mu, \n",
    "                                      psi= psi,  \n",
    "                                      observed=y)\n",
    "        pm.Potential('constrain', tt.switch(conv > y.max(), -np.inf, 0.))\n",
    "        # trace_zip = pm.sample(chains = 4, target_accept = 0.95)"
   ]
  },
  {
   "cell_type": "code",
   "execution_count": 145,
   "id": "27b14bb3-21df-4a3e-a1a2-a5fc3e340faf",
   "metadata": {},
   "outputs": [],
   "source": [
    "with model_zip:\n",
    "    prior_pred = pm.sample_prior_predictive()"
   ]
  },
  {
   "cell_type": "code",
   "execution_count": 146,
   "id": "fc058d5a-203a-41b5-b6a2-aa6c5586f941",
   "metadata": {},
   "outputs": [
    {
     "data": {
      "image/png": "[encoded data removed]",
      "text/plain": [
       "<Figure size 432x288 with 1 Axes>"
      ]
     },
     "metadata": {
      "needs_background": "light"
     },
     "output_type": "display_data"
    }
   ],
   "source": [
    "plt.hist(prior_pred['conv'][40],\n",
    "         color = 'cornflowerblue', \n",
    "         width=0.8, bins =100)\n",
    "\n",
    "plt.title(label= 'Target variable distribution')\n",
    "plt.show()"
   ]
  },
  {
   "cell_type": "markdown",
   "id": "699c108e-da8c-4cd4-ad3a-9ca0d040b278",
   "metadata": {
    "tags": []
   },
   "source": [
    "### ZeroInflatedNegativeBinomial for Likelihood Function"
   ]
  },
  {
   "cell_type": "code",
   "execution_count": 141,
   "id": "351ff364-d36c-490c-beb5-e333d4d8896e",
   "metadata": {},
   "outputs": [],
   "source": [
    "with pm.Model() as model_zinb:\n",
    "\n",
    "        # Intercept\n",
    "        alpha = pm.Normal('alpha', mu=y.mean(), sd=10)\n",
    "        # Slope\n",
    "        beta = pm.HalfNormal('beta', sd = 10, shape = len(data.columns[:-1]))\n",
    "        eps = pm.Gamma('eps', alpha = 1, beta = 0.5)\n",
    "        psi = pm.Beta('psi', 1, 1)\n",
    "        # Expected value of outcome (ML Regression with vectors)\n",
    "        mu = pm.math.invlogit(alpha + pm.math.dot(x, beta))\n",
    "        \n",
    "        conv = pm.ZeroInflatedNegativeBinomial('conv', \n",
    "                                              mu = mu,\n",
    "                                              psi = psi,\n",
    "                                              alpha = eps,\n",
    "                                              observed = y)\n",
    "        \n",
    "        pm.Potential('constrain', tt.switch(conv > y.max(), -np.inf, 0.))\n",
    "        # trace_zinb = pm.sample(chains = 4, target_accept = 0.95)"
   ]
  },
  {
   "cell_type": "code",
   "execution_count": 147,
   "id": "c9642f22-282c-4bf6-ab1d-bdef42da4598",
   "metadata": {},
   "outputs": [],
   "source": [
    "with model_zinb:\n",
    "    prior_pred = pm.sample_prior_predictive()"
   ]
  },
  {
   "cell_type": "code",
   "execution_count": 149,
   "id": "a4187270-f455-409a-9a86-f91b05f45422",
   "metadata": {},
   "outputs": [
    {
     "data": {
      "image/png": "[encoded data removed]",
      "text/plain": [
       "<Figure size 432x288 with 1 Axes>"
      ]
     },
     "metadata": {
      "needs_background": "light"
     },
     "output_type": "display_data"
    }
   ],
   "source": [
    "plt.hist(prior_pred['conv'][0],\n",
    "         color = 'cornflowerblue', \n",
    "         width=0.8, bins =100)\n",
    "\n",
    "plt.title(label= 'Target variable distribution')\n",
    "plt.show()"
   ]
  },
  {
   "cell_type": "markdown",
   "id": "6b26867a-fd2a-4f9e-bb62-6cc69bc811ba",
   "metadata": {
    "tags": []
   },
   "source": [
    "### Using Constrain on ZeroInflatedNegativeBinomial Likelihood"
   ]
  },
  {
   "cell_type": "markdown",
   "id": "43ee94ea-bab9-4794-bf8a-805f5c5ba4da",
   "metadata": {},
   "source": [
    "### GLM Negative Binomial"
   ]
  },
  {
   "cell_type": "code",
   "execution_count": 150,
   "id": "c69aba94-fa96-4f72-a0e3-1afb8e081170",
   "metadata": {},
   "outputs": [],
   "source": [
    "# specifying priors and formula\n",
    "formula = 'TOTAL_CONV ~ ' + ' + '.join(['%s' % variable for variable in data.columns[:-1]])"
   ]
  },
  {
   "cell_type": "code",
   "execution_count": 154,
   "id": "ee6eeda1-c4fb-47b6-9b3d-fc7a51f3491b",
   "metadata": {},
   "outputs": [],
   "source": [
    "d_coef = {}\n",
    "for val in data.columns[:-1]:\n",
    "    d_coef[val] = d_coef.get(val, pm.HalfNormal.dist())\n",
    "\n",
    "d_intercept = {'Intercept': pm.Normal.dist()}\n",
    "\n",
    "# combining priors\n",
    "d_priors = {**d_intercept,**d_coef}"
   ]
  },
  {
   "cell_type": "code",
   "execution_count": 157,
   "id": "59bbba7b-093d-4830-818f-488e30217ae2",
   "metadata": {
    "tags": []
   },
   "outputs": [
    {
     "name": "stderr",
     "output_type": "stream",
     "text": [
      "The glm module is deprecated and will be removed in version 4.0\n",
      "We recommend to instead use Bambi https://bambinos.github.io/bambi/\n"
     ]
    }
   ],
   "source": [
    "# Context for the model\n",
    "with pm.Model() as model_glm_nb:\n",
    "    family = pm.glm.families.NegativeBinomial()\n",
    "    # Creating the model requires a formula and data (and optionally a family)\n",
    "    pm.GLM.from_formula(formula,\n",
    "                        data = data, \n",
    "                        priors = d_priors, \n",
    "                        family= family)\n",
    "    # pm.Potential('constrain', tt.switch(conv > y.max(), -np.inf, 0.))\n",
    "    # trace_glm_nb = pm.sample(chains=4,  target_accept = 0.95)"
   ]
  }
 ],
 "metadata": {
  "kernelspec": {
   "display_name": "Python 3 (ipykernel)",
   "language": "python",
   "name": "python3"
  },
  "language_info": {
   "codemirror_mode": {
    "name": "ipython",
    "version": 3
   },
   "file_extension": ".py",
   "mimetype": "text/x-python",
   "name": "python",
   "nbconvert_exporter": "python",
   "pygments_lexer": "ipython3",
   "version": "3.8.12"
  }
 },
 "nbformat": 4,
 "nbformat_minor": 5
}
