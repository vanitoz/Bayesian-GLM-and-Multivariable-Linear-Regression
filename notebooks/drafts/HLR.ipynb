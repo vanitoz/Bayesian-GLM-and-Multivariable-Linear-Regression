{
 "cells": [
  {
   "cell_type": "code",
   "execution_count": 1,
   "id": "1dbf5a32-8643-472c-8eb2-930a96f3aa24",
   "metadata": {},
   "outputs": [
    {
     "name": "stderr",
     "output_type": "stream",
     "text": [
      "WARNING (theano.tensor.blas): Using NumPy C-API based implementation for BLAS functions.\n"
     ]
    }
   ],
   "source": [
    "import pandas as pd\n",
    "import numpy as np\n",
    " \n",
    "import matplotlib.pyplot as plt\n",
    "%matplotlib inline\n",
    "import seaborn as sns\n",
    "sns.set(style=\"darkgrid\")\n",
    "\n",
    "from scipy.stats import percentileofscore\n",
    "from scipy import stats\n",
    "\n",
    "import pymc3 as pm\n",
    "import arviz as az\n",
    "\n",
    "# pd.set_option('display.max_columns', None)\n",
    "\n",
    "from utils import *\n",
    "\n",
    "%load_ext autoreload\n",
    "%autoreload 2\n",
    "\n",
    "import warnings\n",
    "warnings.filterwarnings(\"ignore\")"
   ]
  },
  {
   "cell_type": "code",
   "execution_count": 2,
   "id": "7322e548-2702-414f-a53d-1e7f03f298ee",
   "metadata": {},
   "outputs": [],
   "source": [
    "import scipy.stats as scs\n",
    "from scipy.stats import norm\n",
    "import math\n",
    "from sklearn.model_selection import train_test_split\n",
    "from sklearn.linear_model import LinearRegression\n",
    "from sklearn import metrics\n",
    "\n",
    "from sklearn.preprocessing import StandardScaler\n",
    "from sklearn import linear_model"
   ]
  },
  {
   "cell_type": "code",
   "execution_count": 3,
   "id": "008eff73-e5fb-4ef5-8cbf-8301e3f63496",
   "metadata": {},
   "outputs": [
    {
     "data": {
      "text/html": [
       "<div>\n",
       "<style scoped>\n",
       "    .dataframe tbody tr th:only-of-type {\n",
       "        vertical-align: middle;\n",
       "    }\n",
       "\n",
       "    .dataframe tbody tr th {\n",
       "        vertical-align: top;\n",
       "    }\n",
       "\n",
       "    .dataframe thead th {\n",
       "        text-align: right;\n",
       "    }\n",
       "</style>\n",
       "<table border=\"1\" class=\"dataframe\">\n",
       "  <thead>\n",
       "    <tr style=\"text-align: right;\">\n",
       "      <th></th>\n",
       "      <th>TV_MONDAY</th>\n",
       "      <th>TV_TUESDAY</th>\n",
       "      <th>TV_WEDNESDAY</th>\n",
       "      <th>TV_THURSDAY</th>\n",
       "      <th>TV_FRIDAY</th>\n",
       "      <th>TV_SATURDAY</th>\n",
       "      <th>TV_SUNDAY</th>\n",
       "      <th>TOTAL_CONV</th>\n",
       "    </tr>\n",
       "  </thead>\n",
       "  <tbody>\n",
       "    <tr>\n",
       "      <th>0</th>\n",
       "      <td>0.00</td>\n",
       "      <td>0.00</td>\n",
       "      <td>0.00</td>\n",
       "      <td>0.0</td>\n",
       "      <td>0.00</td>\n",
       "      <td>0.00</td>\n",
       "      <td>0.00</td>\n",
       "      <td>16</td>\n",
       "    </tr>\n",
       "    <tr>\n",
       "      <th>1</th>\n",
       "      <td>0.00</td>\n",
       "      <td>0.00</td>\n",
       "      <td>2.10</td>\n",
       "      <td>0.0</td>\n",
       "      <td>0.00</td>\n",
       "      <td>11.41</td>\n",
       "      <td>0.08</td>\n",
       "      <td>1</td>\n",
       "    </tr>\n",
       "    <tr>\n",
       "      <th>2</th>\n",
       "      <td>0.00</td>\n",
       "      <td>0.00</td>\n",
       "      <td>0.00</td>\n",
       "      <td>0.0</td>\n",
       "      <td>0.00</td>\n",
       "      <td>0.00</td>\n",
       "      <td>1.00</td>\n",
       "      <td>1</td>\n",
       "    </tr>\n",
       "    <tr>\n",
       "      <th>3</th>\n",
       "      <td>1.51</td>\n",
       "      <td>0.00</td>\n",
       "      <td>0.00</td>\n",
       "      <td>0.0</td>\n",
       "      <td>0.00</td>\n",
       "      <td>0.00</td>\n",
       "      <td>0.00</td>\n",
       "      <td>1</td>\n",
       "    </tr>\n",
       "    <tr>\n",
       "      <th>4</th>\n",
       "      <td>1.08</td>\n",
       "      <td>2.08</td>\n",
       "      <td>0.24</td>\n",
       "      <td>1.4</td>\n",
       "      <td>3.92</td>\n",
       "      <td>7.56</td>\n",
       "      <td>16.27</td>\n",
       "      <td>1</td>\n",
       "    </tr>\n",
       "  </tbody>\n",
       "</table>\n",
       "</div>"
      ],
      "text/plain": [
       "   TV_MONDAY  TV_TUESDAY  TV_WEDNESDAY  TV_THURSDAY  TV_FRIDAY  TV_SATURDAY  \\\n",
       "0       0.00        0.00          0.00          0.0       0.00         0.00   \n",
       "1       0.00        0.00          2.10          0.0       0.00        11.41   \n",
       "2       0.00        0.00          0.00          0.0       0.00         0.00   \n",
       "3       1.51        0.00          0.00          0.0       0.00         0.00   \n",
       "4       1.08        2.08          0.24          1.4       3.92         7.56   \n",
       "\n",
       "   TV_SUNDAY  TOTAL_CONV  \n",
       "0       0.00          16  \n",
       "1       0.08           1  \n",
       "2       1.00           1  \n",
       "3       0.00           1  \n",
       "4      16.27           1  "
      ]
     },
     "execution_count": 3,
     "metadata": {},
     "output_type": "execute_result"
    }
   ],
   "source": [
    "data = pd.read_csv('data/tv_data.csv')\n",
    "data.head()"
   ]
  },
  {
   "cell_type": "code",
   "execution_count": 4,
   "id": "e6b0f909-ad48-4167-8c5c-d5a310f3dcba",
   "metadata": {},
   "outputs": [],
   "source": [
    "# Split for target and independent var-s\n",
    "x = data.iloc[:,:-1].values\n",
    "y = data.TOTAL_CONV.values"
   ]
  },
  {
   "cell_type": "code",
   "execution_count": 8,
   "id": "6761f96a-4fcc-4621-b117-bc32d20a9fc0",
   "metadata": {},
   "outputs": [],
   "source": [
    "# Centering the independent variables in order to minimize correlation btw alpha and beta\n",
    "\n",
    "# x_mean = x.mean(axis=0, keepdims=True)\n",
    "# x_centered = x - x_mean "
   ]
  },
  {
   "cell_type": "markdown",
   "id": "fe2f5e6e-945b-4ad7-9fb8-165dd4d38390",
   "metadata": {},
   "source": [
    "### Buildin Unpooled model with GROUPS of data"
   ]
  },
  {
   "cell_type": "code",
   "execution_count": 9,
   "id": "8f6d4ce9-f533-44e1-9e86-2cd60b804043",
   "metadata": {},
   "outputs": [],
   "source": [
    "# Create groups of the Data\n",
    "df_split = np.array_split(data, 5)\n",
    "for i,df in enumerate(df_split):\n",
    "    df['GROUP'] = 'GROUP_{}'.format(i+1)\n",
    "df_groups = pd.concat(df_split)"
   ]
  },
  {
   "cell_type": "code",
   "execution_count": 10,
   "id": "f17009c8-21ce-452b-b558-88f465d9745f",
   "metadata": {},
   "outputs": [
    {
     "data": {
      "text/html": [
       "<div>\n",
       "<style scoped>\n",
       "    .dataframe tbody tr th:only-of-type {\n",
       "        vertical-align: middle;\n",
       "    }\n",
       "\n",
       "    .dataframe tbody tr th {\n",
       "        vertical-align: top;\n",
       "    }\n",
       "\n",
       "    .dataframe thead th {\n",
       "        text-align: right;\n",
       "    }\n",
       "</style>\n",
       "<table border=\"1\" class=\"dataframe\">\n",
       "  <thead>\n",
       "    <tr style=\"text-align: right;\">\n",
       "      <th></th>\n",
       "      <th>TV_MONDAY</th>\n",
       "      <th>TV_TUESDAY</th>\n",
       "      <th>TV_WEDNESDAY</th>\n",
       "      <th>TV_THURSDAY</th>\n",
       "      <th>TV_FRIDAY</th>\n",
       "      <th>TV_SATURDAY</th>\n",
       "      <th>TV_SUNDAY</th>\n",
       "      <th>TOTAL_CONV</th>\n",
       "      <th>GROUP</th>\n",
       "    </tr>\n",
       "  </thead>\n",
       "  <tbody>\n",
       "    <tr>\n",
       "      <th>0</th>\n",
       "      <td>0.00</td>\n",
       "      <td>0.00</td>\n",
       "      <td>0.00</td>\n",
       "      <td>0.0</td>\n",
       "      <td>0.00</td>\n",
       "      <td>0.00</td>\n",
       "      <td>0.00</td>\n",
       "      <td>16</td>\n",
       "      <td>GROUP_1</td>\n",
       "    </tr>\n",
       "    <tr>\n",
       "      <th>1</th>\n",
       "      <td>0.00</td>\n",
       "      <td>0.00</td>\n",
       "      <td>2.10</td>\n",
       "      <td>0.0</td>\n",
       "      <td>0.00</td>\n",
       "      <td>11.41</td>\n",
       "      <td>0.08</td>\n",
       "      <td>1</td>\n",
       "      <td>GROUP_1</td>\n",
       "    </tr>\n",
       "    <tr>\n",
       "      <th>2</th>\n",
       "      <td>0.00</td>\n",
       "      <td>0.00</td>\n",
       "      <td>0.00</td>\n",
       "      <td>0.0</td>\n",
       "      <td>0.00</td>\n",
       "      <td>0.00</td>\n",
       "      <td>1.00</td>\n",
       "      <td>1</td>\n",
       "      <td>GROUP_1</td>\n",
       "    </tr>\n",
       "    <tr>\n",
       "      <th>3</th>\n",
       "      <td>1.51</td>\n",
       "      <td>0.00</td>\n",
       "      <td>0.00</td>\n",
       "      <td>0.0</td>\n",
       "      <td>0.00</td>\n",
       "      <td>0.00</td>\n",
       "      <td>0.00</td>\n",
       "      <td>1</td>\n",
       "      <td>GROUP_1</td>\n",
       "    </tr>\n",
       "    <tr>\n",
       "      <th>4</th>\n",
       "      <td>1.08</td>\n",
       "      <td>2.08</td>\n",
       "      <td>0.24</td>\n",
       "      <td>1.4</td>\n",
       "      <td>3.92</td>\n",
       "      <td>7.56</td>\n",
       "      <td>16.27</td>\n",
       "      <td>1</td>\n",
       "      <td>GROUP_1</td>\n",
       "    </tr>\n",
       "  </tbody>\n",
       "</table>\n",
       "</div>"
      ],
      "text/plain": [
       "   TV_MONDAY  TV_TUESDAY  TV_WEDNESDAY  TV_THURSDAY  TV_FRIDAY  TV_SATURDAY  \\\n",
       "0       0.00        0.00          0.00          0.0       0.00         0.00   \n",
       "1       0.00        0.00          2.10          0.0       0.00        11.41   \n",
       "2       0.00        0.00          0.00          0.0       0.00         0.00   \n",
       "3       1.51        0.00          0.00          0.0       0.00         0.00   \n",
       "4       1.08        2.08          0.24          1.4       3.92         7.56   \n",
       "\n",
       "   TV_SUNDAY  TOTAL_CONV    GROUP  \n",
       "0       0.00          16  GROUP_1  \n",
       "1       0.08           1  GROUP_1  \n",
       "2       1.00           1  GROUP_1  \n",
       "3       0.00           1  GROUP_1  \n",
       "4      16.27           1  GROUP_1  "
      ]
     },
     "execution_count": 10,
     "metadata": {},
     "output_type": "execute_result"
    }
   ],
   "source": [
    "df_groups.head()"
   ]
  },
  {
   "cell_type": "code",
   "execution_count": 11,
   "id": "68a208b4-7691-454c-940e-d5ee1825abc7",
   "metadata": {},
   "outputs": [
    {
     "data": {
      "text/plain": [
       "['GROUP_5', 'GROUP_4', 'GROUP_3', 'GROUP_2', 'GROUP_1']"
      ]
     },
     "execution_count": 11,
     "metadata": {},
     "output_type": "execute_result"
    }
   ],
   "source": [
    "groups_name = list(df_groups.GROUP.unique())\n",
    "groups_name.reverse()\n",
    "groups_name"
   ]
  },
  {
   "cell_type": "markdown",
   "id": "d8c6d577-af61-4f54-b2af-d4e6e3fa071a",
   "metadata": {},
   "source": [
    "### Running Model for each group of data and collecting each trace into Dictionary"
   ]
  },
  {
   "cell_type": "code",
   "execution_count": null,
   "id": "126696be-42b1-49ad-8789-ed0eadbde31f",
   "metadata": {},
   "outputs": [],
   "source": [
    "individual_trace = {}\n",
    "\n",
    "for group_name in groups_name:\n",
    "    # Selecting subset of data belonging to group\n",
    "    g_data = df_groups[df_groups['GROUP'] == group_name]\n",
    "    g_data = g_data.reset_index(drop=True)\n",
    "    \n",
    "    with pm.Model() as individual_model:\n",
    "        # Intercept\n",
    "        alpha = pm.Normal('alpha', mu=0, sd=10)\n",
    "        # Slope\n",
    "        beta = pm.HalfNormal('beta', sd =50, shape = len(data.columns[:-1]))\n",
    "        # Error term\n",
    "        eps = pm.HalfCauchy('eps', 5)\n",
    "\n",
    "        # Expected value of outcome (ML Regression with vectors)\n",
    "        mu = alpha + pm.math.dot(x, beta)\n",
    "        #alpha = pm.Deterministic('alpha', alpha_tmp - pm.math.dot(x_mean, beta))\n",
    "\n",
    "        # Likelihood\n",
    "        conversion = pm.Normal('conversion', mu= mu, sd= eps, observed=y)\n",
    "\n",
    "        # posterior\n",
    "    trace_i = pm.sample(chains = 4, progressbar= True)\n",
    "\n",
    "    individual_trace[group_name] = trace_i"
   ]
  },
  {
   "cell_type": "code",
   "execution_count": null,
   "id": "23d1b64d-3c52-411b-a43b-8b327a737bc7",
   "metadata": {},
   "outputs": [],
   "source": [
    "individual_trace"
   ]
  },
  {
   "cell_type": "code",
   "execution_count": null,
   "id": "800c3ec5-a3a8-4be7-ab9a-0713fbb3c3ab",
   "metadata": {},
   "outputs": [],
   "source": [
    "az.summary(individual_trace['GROUP_4'])"
   ]
  },
  {
   "cell_type": "code",
   "execution_count": null,
   "id": "41a59489-6349-46da-bfd2-e86aa56b849c",
   "metadata": {},
   "outputs": [],
   "source": [
    "ppc = pm.sample_posterior_predictive(individual_trace['GROUP_4'], samples=4000, model=individual_model)"
   ]
  },
  {
   "cell_type": "code",
   "execution_count": null,
   "id": "a577e4e2-f96d-4c4c-9877-5b6a6e2f5211",
   "metadata": {},
   "outputs": [],
   "source": [
    "ppc"
   ]
  },
  {
   "cell_type": "markdown",
   "id": "728bd95d-a121-450f-849d-908a13659ab3",
   "metadata": {},
   "source": [
    "## Hierarchical Model"
   ]
  },
  {
   "cell_type": "markdown",
   "id": "9d643323-89c2-4f75-bb5c-4fc37bd55372",
   "metadata": {},
   "source": [
    "Instead of initiating the parameters separatly, the hierarchical model initiates group parameters that consider the groups's not as completely different but as having an underlying similarity. These distributions are subsequently used to influence the distribution of each groups's α and β."
   ]
  },
  {
   "cell_type": "code",
   "execution_count": null,
   "id": "4b3d5bf0-0f31-4f3d-ae4b-5bcf2dc83c24",
   "metadata": {},
   "outputs": [],
   "source": [
    "with pm.Model() as hierarchical_model:\n",
    "\n",
    "    # Hyperpriors\n",
    "    mu_a = pm.Normal('mu_alpha', mu=0., sigma=10)\n",
    "    sigma_a = pm.HalfNormal('sigma_alpha', sd=10)\n",
    "    mu_b = pm.Normal('mu_beta', mu=0., sd=10)\n",
    "    sigma_b = pm.HalfNormal('sigma_beta', sd=10)\n",
    "    \n",
    "    # Priors\n",
    "    alpha = pm.Normal('alpha', mu=mu_a, sd=sigma_a, shape = len(df_groups.GROUP.unique()))\n",
    "    beta = pm.HalfNormal('beta', sd =50, shape = len(df_groups.GROUP.unique()))\n",
    "    eps = pm.HalfCauchy('eps', 5)\n",
    "    \n",
    "    # Expected value of outcome (ML Regression with vectors)\n",
    "    mu = alpha + pm.math.dot(x, beta)\n",
    "    #alpha = pm.Deterministic('alpha', alpha_tmp - pm.math.dot(x_mean, beta))\n",
    "    \n",
    "    # Likelihood\n",
    "    conversion = pm.Normal('conversion', mu= mu, sd= eps, observed=y)\n",
    "    \n",
    "    # posterior\n",
    "    trace_h = pm.sample(chains = 4)"
   ]
  }
 ],
 "metadata": {
  "kernelspec": {
   "display_name": "Python 3",
   "language": "python",
   "name": "python3"
  },
  "language_info": {
   "codemirror_mode": {
    "name": "ipython",
    "version": 3
   },
   "file_extension": ".py",
   "mimetype": "text/x-python",
   "name": "python",
   "nbconvert_exporter": "python",
   "pygments_lexer": "ipython3",
   "version": "3.7.3"
  }
 },
 "nbformat": 4,
 "nbformat_minor": 5
}
